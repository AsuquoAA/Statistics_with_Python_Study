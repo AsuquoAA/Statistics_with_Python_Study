{
 "cells": [
  {
   "cell_type": "markdown",
   "metadata": {},
   "source": [
    "# Practice notebook for confidence intervals using NHANES data\n",
    "\n",
    "This notebook will give you the opportunity to practice working with confidence intervals using the NHANES data.\n",
    "\n",
    "You can enter your code into the cells that say \"enter your code here\", and you can type responses to the questions into the cells that say \"Type Markdown and Latex\".\n",
    "\n",
    "Note that most of the code that you will need to write below is very similar to code that appears in the case study notebook.  You will need to edit code from that notebook in small ways to adapt it to the prompts below.\n",
    "\n",
    "To get started, we will use the same module imports and read the data in the same way as we did in the case study:"
   ]
  },
  {
   "cell_type": "code",
   "execution_count": 1,
   "metadata": {},
   "outputs": [],
   "source": [
    "import matplotlib.pyplot as plt\n",
    "import pandas as pd\n",
    "import numpy as np\n",
    "import seaborn as sns\n",
    "import statsmodels.api as sm\n",
    "import scipy.stats \n",
    "\n",
    "da = pd.read_csv(\"nhanes_2015_2016.csv\")"
   ]
  },
  {
   "cell_type": "markdown",
   "metadata": {},
   "source": [
    "## Question 1\n",
    "\n",
    "Restrict the sample to women between 35 and 50, then use the marital status variable [DMDMARTL](https://wwwn.cdc.gov/Nchs/Nhanes/2015-2016/DEMO_I.htm#DMDMARTL) to partition this sample into two groups - women who are currently married, and women who are not currently married.  Within each of these groups, calculate the proportion of women who have completed college.  Calculate 95% confidence intervals for each of these proportions."
   ]
  },
  {
   "cell_type": "code",
   "execution_count": 2,
   "metadata": {},
   "outputs": [
    {
     "name": "stdout",
     "output_type": "stream",
     "text": [
      "[(0.32, 0.4)]\n",
      "[(0.18, 0.25)]\n"
     ]
    }
   ],
   "source": [
    "# enter your code here\n",
    "# restricting the sample to only those age between 35 and 50\n",
    "db = da[(da['RIDAGEYR']>=35) & (da['RIDAGEYR']<=50)]\n",
    "\n",
    "# restricting it to only females\n",
    "db['RIAGENDRx'] = db['RIAGENDR'].replace({1:'Male',2:'Female'})\n",
    "db = db[db['RIAGENDRx']=='Female']\n",
    "\n",
    "# making a series DMDMARTLx that explains the responses given in DMDMARTL\n",
    "db['DMDMARTLx'] = db['DMDMARTL'].replace({1.0:'Married',2.0:'Unmarried',3.0:'Unmarried',4.0:'Unmarried'\n",
    "                                         ,5.0:'Unmarried',6.0:'Unmarried',77.0:np.nan})\n",
    "\n",
    "# making a series DMDMARTLx that explains the responses given in DMDMARTL\n",
    "db['DMDEDUC2x'] = db['DMDEDUC2'].replace({1.0:'not completed college',2.0:'not completed college',3.0:'not completed college',\n",
    "                                          4.0:'not completed college',5.0:'College graduate',7.0:np.nan,9.0:np.nan})\n",
    "\n",
    "# calculating the proportions\n",
    "pr = db.groupby(['DMDMARTLx']).agg({'DMDEDUC2x': lambda x: np.mean(x=='College graduate')})\n",
    "\n",
    "# The number of people for the calculated proportion\n",
    "dn = db.groupby(['DMDMARTLx']).agg({'DMDEDUC2x': np.size})\n",
    "\n",
    "# calculating the estimate of the standard error of each group\n",
    "sem = np.sqrt((pr*(1-pr)/dn))\n",
    "\n",
    "# confidence intervals for for both groups\n",
    "z_multiplier = scipy.stats.norm.ppf(q = 0.95)\n",
    "lcb = pr-z_multiplier*sem\n",
    "ucb = pr+z_multiplier*sem\n",
    "\n",
    "# print confidence intervals\n",
    "print(list(zip(np.round(lcb.loc['Married'],2),np.round(ucb.loc['Married'],2))))\n",
    "print(list(zip(np.round(lcb.loc['Unmarried'],2),np.round(ucb.loc['Unmarried'],2))))"
   ]
  },
  {
   "cell_type": "markdown",
   "metadata": {},
   "source": [
    "__Q1a.__ Identify which of the two confidence intervals is wider, and explain why this is the case. "
   ]
  },
  {
   "cell_type": "markdown",
   "metadata": {},
   "source": [
    "The confidence interval for married women is larger, despite having a larger sample size, because the pr-married estimate is closer to 50% than the pr-unmarried so the standard error of pr-married is wider "
   ]
  },
  {
   "cell_type": "markdown",
   "metadata": {},
   "source": [
    "__Q1b.__ Write 1-2 sentences summarizing these findings for an audience that does not know what a confidence interval is (the goal here is to report the substance of what you learned about how marital status and educational attainment are related, not to teach a person what a confidence interval is)."
   ]
  },
  {
   "cell_type": "markdown",
   "metadata": {},
   "source": [
    "We can see that, on average, a middle age woman who is married is more likely to have completed college than a middle age women who is not married, and the confidence intervals for these two estimates do not overlap"
   ]
  },
  {
   "cell_type": "markdown",
   "metadata": {},
   "source": [
    "## Question 2\n",
    "\n",
    "Construct a 95% confidence interval for the proportion of smokers who are female. Construct a 95% confidence interval for the proportion of smokers who are male. Construct a 95% confidence interval for the **difference** between those two gender proportions."
   ]
  },
  {
   "cell_type": "code",
   "execution_count": 3,
   "metadata": {},
   "outputs": [
    {
     "name": "stdout",
     "output_type": "stream",
     "text": [
      "(0.2882949879861214, 0.32139545615923526)\n",
      "(0.49458749263718593, 0.5319290347874418)\n"
     ]
    },
    {
     "data": {
      "text/plain": [
       "[(-0.22862362382619214, -0.1867895693597447)]"
      ]
     },
     "execution_count": 3,
     "metadata": {},
     "output_type": "execute_result"
    }
   ],
   "source": [
    "# enter your code here\n",
    "# restricting to only the female population\n",
    "da['RIAGENDRx'] = da['RIAGENDR'].replace({1:'Male',2:'Female'})\n",
    "da['SMQ020x'] = da['SMQ020'].replace({1:'Yes',2:'No',7:np.nan,9:np.nan})\n",
    "\n",
    "# grouping by smokers and non-smokers\n",
    "dd = pd.crosstab(da['RIAGENDRx'],da['SMQ020x'])\n",
    "dd['Total'] = dd['Yes']+dd['No']\n",
    "\n",
    "# calculating confidence intervals of male and female\n",
    "female_ci = sm.stats.proportion_confint(dd.loc['Female','Yes'],dd.loc['Female','Total'])\n",
    "male_ci = sm.stats.proportion_confint(dd.loc['Male','Yes'],dd.loc['Male','Total'])\n",
    "print(female_ci)\n",
    "print(male_ci)\n",
    "\n",
    "# now let's find the confidence interval for the difference between the two gender proportions\n",
    "# Proportions\n",
    "pr = da.groupby('RIAGENDRx').agg({'SMQ020x': [lambda x: np.mean(x=='Yes')]})\n",
    "pr.columns = ['Estimates']\n",
    "\n",
    "# the sizes\n",
    "dn = da.groupby('RIAGENDRx').agg({'SMQ020x': np.size})\n",
    "dn.columns = ['Estimates']\n",
    "\n",
    "# calculating the standard errors\n",
    "se = np.sqrt(pr * (1 - pr) / dn)\n",
    "\n",
    "# Standard error for the difference in female/male smoking rates\n",
    "sem_diff = np.sqrt(se.loc['Female']**2+se.loc['Male']**2)\n",
    "\n",
    "# Now calculating the ci for the difference\n",
    "prop_diff = pr.loc['Female']-pr.loc['Male']\n",
    "lcb = prop_diff - z_multiplier * sem_diff\n",
    "ucb = prop_diff + z_multiplier * sem_diff\n",
    "ci = list(zip(lcb,ucb))\n",
    "ci"
   ]
  },
  {
   "cell_type": "markdown",
   "metadata": {},
   "source": [
    "__Q2a.__ Why might it be relevant to report the separate gender proportions **and** the difference between the gender proportions?"
   ]
  },
  {
   "cell_type": "markdown",
   "metadata": {},
   "source": [
    "When we look at the confidence interval for the males who smoke and the proportion of females who smoke, we see how they behave marginally. That is, we see how they behave in their own group. But in order to compare them directly, we also have to compute the confidence interval for the difference. This makes sure that the two samples are compared fairly and we, as much as possible, control for sample size differences."
   ]
  },
  {
   "cell_type": "markdown",
   "metadata": {},
   "source": [
    "__Q2b.__ How does the **width** of the confidence interval for the difference between the gender proportions compare to the widths of the confidence intervals for the separate gender proportions?"
   ]
  },
  {
   "cell_type": "markdown",
   "metadata": {},
   "source": [
    "The width for the difference in proportions will always be larger than the widths of the two intervals it is made from. This happens because of the way the standard error is composed. In general, $\\sqrt{A} < \\sqrt{A + B}$ when $B > 0$"
   ]
  },
  {
   "cell_type": "markdown",
   "metadata": {},
   "source": [
    "## Question 3\n",
    "\n",
    "Construct a 95% interval for height ([BMXHT](https://wwwn.cdc.gov/Nchs/Nhanes/2015-2016/BMX_I.htm#BMXHT)) in centimeters.  Then convert height from centimeters to inches by dividing by 2.54, and construct a 95% confidence interval for height in inches.  Finally, convert the endpoints (the lower and upper confidence limits) of the confidence interval from inches to back to centimeters   "
   ]
  },
  {
   "cell_type": "code",
   "execution_count": 4,
   "metadata": {},
   "outputs": [
    {
     "data": {
      "text/plain": [
       "(165.88055125872887, 166.4051176994943)"
      ]
     },
     "execution_count": 4,
     "metadata": {},
     "output_type": "execute_result"
    }
   ],
   "source": [
    "# enter your code here\n",
    "da['BMXHTx'] = da['BMXHT']/2.54\n",
    "ci = sm.stats.DescrStatsW(da['BMXHTx'].dropna()).zconfint_mean()\n",
    "lcb = float(ci[0])\n",
    "ucb = float(ci[1])\n",
    "lcb = lcb * 2.54\n",
    "ucb = ucb * 2.54\n",
    "ci = ((lcb,ucb))\n",
    "ci"
   ]
  },
  {
   "cell_type": "markdown",
   "metadata": {},
   "source": [
    "__Q3a.__ Describe how the confidence interval constructed in centimeters relates to the confidence interval constructed in inches."
   ]
  },
  {
   "cell_type": "markdown",
   "metadata": {},
   "source": [
    "They are equal. The units of a measurement should not impact how the statistical inference on that quantity is performed for confidence intervals like these"
   ]
  },
  {
   "cell_type": "markdown",
   "metadata": {},
   "source": [
    "## Question 4\n",
    "\n",
    "Partition the sample based on 10-year age bands, i.e. the resulting groups will consist of people with ages from 18-28, 29-38, etc. Construct 95% confidence intervals for the difference between the mean BMI for females and for males within each age band."
   ]
  },
  {
   "cell_type": "code",
   "execution_count": 5,
   "metadata": {},
   "outputs": [
    {
     "data": {
      "text/html": [
       "<div>\n",
       "<style scoped>\n",
       "    .dataframe tbody tr th:only-of-type {\n",
       "        vertical-align: middle;\n",
       "    }\n",
       "\n",
       "    .dataframe tbody tr th {\n",
       "        vertical-align: top;\n",
       "    }\n",
       "\n",
       "    .dataframe thead tr th {\n",
       "        text-align: left;\n",
       "    }\n",
       "\n",
       "    .dataframe thead tr:last-of-type th {\n",
       "        text-align: right;\n",
       "    }\n",
       "</style>\n",
       "<table border=\"1\" class=\"dataframe\">\n",
       "  <thead>\n",
       "    <tr>\n",
       "      <th></th>\n",
       "      <th colspan=\"12\" halign=\"left\">BMXBMI</th>\n",
       "    </tr>\n",
       "    <tr>\n",
       "      <th></th>\n",
       "      <th colspan=\"2\" halign=\"left\">mean</th>\n",
       "      <th colspan=\"2\" halign=\"left\">std</th>\n",
       "      <th colspan=\"2\" halign=\"left\">size</th>\n",
       "      <th colspan=\"2\" halign=\"left\">sem</th>\n",
       "      <th>sem_diff</th>\n",
       "      <th>mean_diff</th>\n",
       "      <th>lcb</th>\n",
       "      <th>ucb</th>\n",
       "    </tr>\n",
       "    <tr>\n",
       "      <th>RIAGENDRx</th>\n",
       "      <th>Female</th>\n",
       "      <th>Male</th>\n",
       "      <th>Female</th>\n",
       "      <th>Male</th>\n",
       "      <th>Female</th>\n",
       "      <th>Male</th>\n",
       "      <th>Female</th>\n",
       "      <th>Male</th>\n",
       "      <th></th>\n",
       "      <th></th>\n",
       "      <th></th>\n",
       "      <th></th>\n",
       "    </tr>\n",
       "    <tr>\n",
       "      <th>agegrp</th>\n",
       "      <th></th>\n",
       "      <th></th>\n",
       "      <th></th>\n",
       "      <th></th>\n",
       "      <th></th>\n",
       "      <th></th>\n",
       "      <th></th>\n",
       "      <th></th>\n",
       "      <th></th>\n",
       "      <th></th>\n",
       "      <th></th>\n",
       "      <th></th>\n",
       "    </tr>\n",
       "  </thead>\n",
       "  <tbody>\n",
       "    <tr>\n",
       "      <th>(10, 20]</th>\n",
       "      <td>26.435625</td>\n",
       "      <td>26.230286</td>\n",
       "      <td>6.969054</td>\n",
       "      <td>7.024190</td>\n",
       "      <td>165</td>\n",
       "      <td>175</td>\n",
       "      <td>0.542540</td>\n",
       "      <td>0.530979</td>\n",
       "      <td>0.759137</td>\n",
       "      <td>0.205339</td>\n",
       "      <td>-1.293602</td>\n",
       "      <td>1.704281</td>\n",
       "    </tr>\n",
       "    <tr>\n",
       "      <th>(20, 30]</th>\n",
       "      <td>28.422309</td>\n",
       "      <td>27.712441</td>\n",
       "      <td>7.866190</td>\n",
       "      <td>6.583785</td>\n",
       "      <td>514</td>\n",
       "      <td>432</td>\n",
       "      <td>0.346963</td>\n",
       "      <td>0.316762</td>\n",
       "      <td>0.469810</td>\n",
       "      <td>0.709868</td>\n",
       "      <td>-0.213121</td>\n",
       "      <td>1.632857</td>\n",
       "    </tr>\n",
       "    <tr>\n",
       "      <th>(30, 40]</th>\n",
       "      <td>30.325586</td>\n",
       "      <td>29.611726</td>\n",
       "      <td>8.315608</td>\n",
       "      <td>6.622412</td>\n",
       "      <td>474</td>\n",
       "      <td>458</td>\n",
       "      <td>0.381949</td>\n",
       "      <td>0.309445</td>\n",
       "      <td>0.491570</td>\n",
       "      <td>0.713861</td>\n",
       "      <td>-0.252070</td>\n",
       "      <td>1.679791</td>\n",
       "    </tr>\n",
       "    <tr>\n",
       "      <th>(40, 50]</th>\n",
       "      <td>31.160643</td>\n",
       "      <td>29.724623</td>\n",
       "      <td>8.076195</td>\n",
       "      <td>6.407076</td>\n",
       "      <td>502</td>\n",
       "      <td>401</td>\n",
       "      <td>0.360458</td>\n",
       "      <td>0.319954</td>\n",
       "      <td>0.481976</td>\n",
       "      <td>1.436019</td>\n",
       "      <td>0.489076</td>\n",
       "      <td>2.382962</td>\n",
       "    </tr>\n",
       "    <tr>\n",
       "      <th>(50, 60]</th>\n",
       "      <td>30.743777</td>\n",
       "      <td>29.231486</td>\n",
       "      <td>7.575848</td>\n",
       "      <td>5.914373</td>\n",
       "      <td>470</td>\n",
       "      <td>454</td>\n",
       "      <td>0.349448</td>\n",
       "      <td>0.277575</td>\n",
       "      <td>0.446275</td>\n",
       "      <td>1.512291</td>\n",
       "      <td>0.635344</td>\n",
       "      <td>2.389238</td>\n",
       "    </tr>\n",
       "    <tr>\n",
       "      <th>(60, 70]</th>\n",
       "      <td>31.074828</td>\n",
       "      <td>29.392488</td>\n",
       "      <td>7.604514</td>\n",
       "      <td>5.933307</td>\n",
       "      <td>441</td>\n",
       "      <td>437</td>\n",
       "      <td>0.362120</td>\n",
       "      <td>0.283829</td>\n",
       "      <td>0.460097</td>\n",
       "      <td>1.682340</td>\n",
       "      <td>0.778079</td>\n",
       "      <td>2.586601</td>\n",
       "    </tr>\n",
       "    <tr>\n",
       "      <th>(70, 80]</th>\n",
       "      <td>29.138213</td>\n",
       "      <td>27.957692</td>\n",
       "      <td>6.284968</td>\n",
       "      <td>4.974855</td>\n",
       "      <td>410</td>\n",
       "      <td>402</td>\n",
       "      <td>0.310392</td>\n",
       "      <td>0.248123</td>\n",
       "      <td>0.397377</td>\n",
       "      <td>1.180521</td>\n",
       "      <td>0.399365</td>\n",
       "      <td>1.961678</td>\n",
       "    </tr>\n",
       "  </tbody>\n",
       "</table>\n",
       "</div>"
      ],
      "text/plain": [
       "              BMXBMI                                                       \\\n",
       "                mean                  std             size            sem   \n",
       "RIAGENDRx     Female       Male    Female      Male Female Male    Female   \n",
       "agegrp                                                                      \n",
       "(10, 20]   26.435625  26.230286  6.969054  7.024190    165  175  0.542540   \n",
       "(20, 30]   28.422309  27.712441  7.866190  6.583785    514  432  0.346963   \n",
       "(30, 40]   30.325586  29.611726  8.315608  6.622412    474  458  0.381949   \n",
       "(40, 50]   31.160643  29.724623  8.076195  6.407076    502  401  0.360458   \n",
       "(50, 60]   30.743777  29.231486  7.575848  5.914373    470  454  0.349448   \n",
       "(60, 70]   31.074828  29.392488  7.604514  5.933307    441  437  0.362120   \n",
       "(70, 80]   29.138213  27.957692  6.284968  4.974855    410  402  0.310392   \n",
       "\n",
       "                                                             \n",
       "                     sem_diff mean_diff       lcb       ucb  \n",
       "RIAGENDRx      Male                                          \n",
       "agegrp                                                       \n",
       "(10, 20]   0.530979  0.759137  0.205339 -1.293602  1.704281  \n",
       "(20, 30]   0.316762  0.469810  0.709868 -0.213121  1.632857  \n",
       "(30, 40]   0.309445  0.491570  0.713861 -0.252070  1.679791  \n",
       "(40, 50]   0.319954  0.481976  1.436019  0.489076  2.382962  \n",
       "(50, 60]   0.277575  0.446275  1.512291  0.635344  2.389238  \n",
       "(60, 70]   0.283829  0.460097  1.682340  0.778079  2.586601  \n",
       "(70, 80]   0.248123  0.397377  1.180521  0.399365  1.961678  "
      ]
     },
     "execution_count": 5,
     "metadata": {},
     "output_type": "execute_result"
    }
   ],
   "source": [
    "# enter your code here\n",
    "da['agegrp'] = pd.cut(da['RIDAGEYR'],[10,20,30,40,50,60,70,80])\n",
    "de = da.groupby(['agegrp','RIAGENDRx']).agg({'BMXBMI':['mean','std',np.size]}).unstack()\n",
    "\n",
    "# Calculate the SEM for females and for males within each age band\n",
    "de['BMXBMI','sem','Female'] = de['BMXBMI','std','Female']/np.sqrt(de['BMXBMI','size','Female'])\n",
    "de['BMXBMI','sem','Male'] = de['BMXBMI','std','Male']/np.sqrt(de['BMXBMI','size','Male'])\n",
    "\n",
    "# calculate the sem_difference and mean_difference\n",
    "de['BMXBMI','sem_diff',''] = np.sqrt(de['BMXBMI','sem','Female']**2 + de['BMXBMI','sem','Male']**2)\n",
    "de['BMXBMI','mean_diff',''] = de['BMXBMI','mean','Female'] - de['BMXBMI','mean','Male'] \n",
    "\n",
    "# Get the degrees of freedom (df = n - 1), note: n = size\n",
    "df_male = de['BMXBMI','size','Male'] - 1\n",
    "df_female = de['BMXBMI','size','Female'] - 1\n",
    "\n",
    "# Get the minimum degrees of freedom for a more conservative estimate\n",
    "for n in range(de.shape[0]):\n",
    "    if df_male.iloc[n]>df_female.iloc[n]:\n",
    "        df_min = df_male\n",
    "    else:\n",
    "        df_min = df_female\n",
    "    t_multiplier = scipy.stats.t.ppf(1 - (1 - 0.95) / 2, df_min)\n",
    "    de['BMXBMI','lcb',''] = de['BMXBMI','mean_diff',''] - t_multiplier * de['BMXBMI','sem_diff',''] \n",
    "    de['BMXBMI','ucb',''] = de['BMXBMI','mean_diff',''] + t_multiplier * de['BMXBMI','sem_diff','']\n",
    "de"
   ]
  },
  {
   "cell_type": "markdown",
   "metadata": {},
   "source": [
    "__Q4a.__ How do the widths of these confidence intervals differ?  Provide an explanation for any substantial differences in the confidence interval widths that you see."
   ]
  },
  {
   "cell_type": "markdown",
   "metadata": {},
   "source": [
    "## Question 5\n",
    "\n",
    "Construct a 95% confidence interval for the first and second systolic blood pressure measures, and for the difference between the first and second systolic blood pressure measurements within a subject."
   ]
  },
  {
   "cell_type": "code",
   "execution_count": 9,
   "metadata": {},
   "outputs": [
    {
     "name": "stdout",
     "output_type": "stream",
     "text": [
      "First Systolic Blood pressure confidence intervals: (124.59174272058787, 125.57748520016754)\n",
      "Second Systolic Blood pressure confidence intervals: (124.29493306967777, 125.27110125733216)\n",
      "Difference between the First and Second Systolic Blood pressure confidence intervals: (0.5400000439676836, 0.8099720178687849)\n"
     ]
    }
   ],
   "source": [
    "# enter code here\n",
    "dg = da[['BPXSY1','BPXSY2']]\n",
    "ci1 = sm.stats.DescrStatsW(dg['BPXSY1'].dropna()).zconfint_mean()\n",
    "ci2 = sm.stats.DescrStatsW(da['BPXSY2'].dropna()).zconfint_mean()\n",
    "ci1,ci2\n",
    "\n",
    "dg['diff'] = da['BPXSY1']-da['BPXSY2']\n",
    "\n",
    "ci3 = sm.stats.DescrStatsW(dg['diff'].dropna()).zconfint_mean()\n",
    "ci3\n",
    "print('First Systolic Blood pressure confidence intervals:', ci1)\n",
    "print('Second Systolic Blood pressure confidence intervals:', ci2)\n",
    "print('Difference between the First and Second Systolic Blood pressure confidence intervals:', ci3)\n"
   ]
  },
  {
   "cell_type": "markdown",
   "metadata": {},
   "source": [
    "__Q5a.__ Based on these confidence intervals, would you say that a difference of zero between the population mean values of the first and second systolic blood pressure measures is consistent with the data?"
   ]
  },
  {
   "cell_type": "markdown",
   "metadata": {},
   "source": [
    "From our data, we estimate with 95% confidence the population mean difference between the first and second systolic blood pressure measures is in between 0.54 and 0.81 units. Since zero is not within this interval, we have sufficient evidence to reject the claim, at the 95% confidence level, that the population mean difference between the first and second systolic blood pressure measures is zero."
   ]
  },
  {
   "cell_type": "markdown",
   "metadata": {},
   "source": [
    "__Q5b.__ Discuss how the width of the confidence interval for the within-subject difference compares to the widths of the confidence intervals for the first and second measures."
   ]
  },
  {
   "cell_type": "markdown",
   "metadata": {},
   "source": [
    "The within subject variation (the difference of the two measures) is less than the intra-population variation (the variation within the first measure itself and the variation within the second measure itself). This is to say, a person is more like themselves than they are like the population of first and second measures."
   ]
  },
  {
   "cell_type": "markdown",
   "metadata": {},
   "source": [
    "## Question 6\n",
    "\n",
    "Construct a 95% confidence interval for the mean difference between the average age of a smoker, and the average age of a non-smoker."
   ]
  },
  {
   "cell_type": "code",
   "execution_count": 10,
   "metadata": {},
   "outputs": [
    {
     "data": {
      "text/plain": [
       "(5.891344750556488, 7.782170799330483)"
      ]
     },
     "execution_count": 10,
     "metadata": {},
     "output_type": "execute_result"
    }
   ],
   "source": [
    "# insert your code here\n",
    "di = da.groupby('SMQ020x').agg({'RIDAGEYR':['mean','std',np.size]})\n",
    "di.columns = ['mean','std','size']\n",
    "di.loc['No','sem'] = di.loc['No','std']/np.sqrt(di.loc['No','size'])\n",
    "di.loc['Yes','sem'] = di.loc['Yes','std']/np.sqrt(di.loc['Yes','size'])\n",
    "df_min = 2319-1\n",
    "t_multiplier = scipy.stats.t.ppf(1 - (1 - 0.95) / 2, df_min)\n",
    "lcb = (di.loc['Yes','mean']-di.loc['No','mean']) - t_multiplier * np.sqrt(di.loc['Yes','sem']**2+di.loc['No','sem']**2)\n",
    "ucb = (di.loc['Yes','mean']-di.loc['No','mean']) + t_multiplier * np.sqrt(di.loc['Yes','sem']**2+di.loc['No','sem']**2)\n",
    "ci = (lcb,ucb)\n",
    "ci"
   ]
  },
  {
   "cell_type": "markdown",
   "metadata": {},
   "source": [
    "__Q6a.__ Use graphical and numerical techniques to compare the variation in the ages of smokers to the variation in the ages of non-smokers.  "
   ]
  },
  {
   "cell_type": "code",
   "execution_count": 231,
   "metadata": {},
   "outputs": [
    {
     "name": "stdout",
     "output_type": "stream",
     "text": [
      "The mean of smokers age is: 52.10\n",
      "The standard deviation of smokers age is: 17.46\n"
     ]
    },
    {
     "data": {
      "image/png": "[encoded data removed]",
      "text/plain": [
       "<Figure size 640x480 with 1 Axes>"
      ]
     },
     "metadata": {},
     "output_type": "display_data"
    }
   ],
   "source": [
    "# insert your code here\n",
    "dj = da['RIDAGEYR'][da['SMQ020x'] == 'Yes']\n",
    "sns.histplot(dj)\n",
    "print(\"The mean of smokers age is: {:.2f}\".format(np.mean(dj)))\n",
    "print(\"The standard deviation of smokers age is: {:.2f}\".format(np.std(dj, ddof = 1)))"
   ]
  },
  {
   "cell_type": "markdown",
   "metadata": {},
   "source": [
    "__Q6b.__ Does it appear that uncertainty about the mean age of smokers, or uncertainty about the mean age of non-smokers contributed more to the uncertainty for the mean difference that we are focusing on here?"
   ]
  },
  {
   "cell_type": "markdown",
   "metadata": {},
   "source": []
  },
  {
   "cell_type": "code",
   "execution_count": 232,
   "metadata": {},
   "outputs": [
    {
     "name": "stdout",
     "output_type": "stream",
     "text": [
      "The mean of non-smokers age is: 45.26\n",
      "The standard deviation of non-smokers age is: 18.54\n"
     ]
    },
    {
     "data": {
      "image/png": "[encoded data removed]",
      "text/plain": [
       "<Figure size 640x480 with 1 Axes>"
      ]
     },
     "metadata": {},
     "output_type": "display_data"
    }
   ],
   "source": [
    "# insert your code here\n",
    "dk = da['RIDAGEYR'][da['SMQ020x'] == 'No']\n",
    "sns.histplot(dk)\n",
    "print(\"The mean of non-smokers age is: {:.2f}\".format(np.mean(dk)))\n",
    "print(\"The standard deviation of non-smokers age is: {:.2f}\".format(np.std(dk, ddof = 1)))"
   ]
  },
  {
   "cell_type": "code",
   "execution_count": null,
   "metadata": {},
   "outputs": [],
   "source": []
  }
 ],
 "metadata": {
  "kernelspec": {
   "display_name": "Python 3 (ipykernel)",
   "language": "python",
   "name": "python3"
  },
  "language_info": {
   "codemirror_mode": {
    "name": "ipython",
    "version": 3
   },
   "file_extension": ".py",
   "mimetype": "text/x-python",
   "name": "python",
   "nbconvert_exporter": "python",
   "pygments_lexer": "ipython3",
   "version": "3.11.4"
  }
 },
 "nbformat": 4,
 "nbformat_minor": 2
}
