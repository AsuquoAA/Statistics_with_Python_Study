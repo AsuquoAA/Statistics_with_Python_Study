{
 "cells": [
  {
   "cell_type": "markdown",
   "metadata": {},
   "source": [
    "## __Confidence intervals case study using NHANES data__\n",
    "\n",
    "This notebook demonstrates how to use Python and its statistical libraries to construct confidence intervals for proportions and means.  We will also cover some important points relating to the properties of confidence intervals, and discuss how to use and interpret confidence intervals in practice.  We will use the 2015-2016 wave of the [NHANES](https://www.cdc.gov/nchs/nhanes/index.htm) data for all the analyses below.\n",
    "\n",
    "It is important to note that the NHANES data are a \"complex survey\".  The data are not an independent and representative sample from the target population.  Proper analysis of complex survey data should make use of additional information about the manner in which the data were collected.  Since complex survey analysis is a somewhat specialized topic, we ignore this aspect of the data here, and analyze the NHANES data as if it were an independent and identically distributed sample from a population."
   ]
  },
  {
   "cell_type": "code",
   "execution_count": 1,
   "metadata": {},
   "outputs": [],
   "source": [
    "%matplotlib inline\n",
    "import matplotlib.pyplot as plt\n",
    "import pandas as pd\n",
    "import numpy as np\n",
    "import seaborn as sns\n",
    "import statsmodels.api as sm"
   ]
  },
  {
   "cell_type": "markdown",
   "metadata": {},
   "source": [
    "Reading the data using read_csv function"
   ]
  },
  {
   "cell_type": "code",
   "execution_count": 2,
   "metadata": {},
   "outputs": [],
   "source": [
    "da = pd.read_csv('nhanes_2015_2016.csv')"
   ]
  },
  {
   "cell_type": "markdown",
   "metadata": {},
   "source": [
    "### __Confidence intervals for one proportion__\n",
    "\n",
    "In this section, we demonstrate the construction of confidence intervals for the proportion of people who smoke. The specific definition of \"smoker\" used here (SMQ020) identifies a person as being a smoker if they self-report as having smoked 100 or more cigarettes in their lifetime. It is more accurate to refer to this as a measure of \"lifetime smoking\" (as distinct from \"current smoking\"). Recall that the definitions of these and other NHANES variables can be found using the NHANES code books, or by searching using the link below.\n",
    "\n",
    "https://wwwn.cdc.gov/nchs/nhanes/search/default.aspx\n",
    "\n",
    "We will calculate the proportions of smokers separately for females and for males. Initially we can compare these two proportions and their corresponding confidence intervals informally, but later we will discuss methods to compare two proportions formally using confidence intervals.\n",
    "\n",
    "First we replace the numeric codes in the variables of interest with text labels, and set the rare answers other than \"yes\" and \"no\" to be missing (so they will automatically be omitted from all the analyses below)."
   ]
  },
  {
   "cell_type": "code",
   "execution_count": 3,
   "metadata": {},
   "outputs": [],
   "source": [
    "da['SMQ020x'] = da['SMQ020'].replace({1:'Yes',2:'No',7:np.nan,9:np.nan})\n",
    "da['RIAGENDRx'] = da['RIAGENDR'].replace({1:'Male',2:'Female'})"
   ]
  },
  {
   "cell_type": "code",
   "execution_count": 4,
   "metadata": {},
   "outputs": [
    {
     "data": {
      "text/html": [
       "<div>\n",
       "<style scoped>\n",
       "    .dataframe tbody tr th:only-of-type {\n",
       "        vertical-align: middle;\n",
       "    }\n",
       "\n",
       "    .dataframe tbody tr th {\n",
       "        vertical-align: top;\n",
       "    }\n",
       "\n",
       "    .dataframe thead th {\n",
       "        text-align: right;\n",
       "    }\n",
       "</style>\n",
       "<table border=\"1\" class=\"dataframe\">\n",
       "  <thead>\n",
       "    <tr style=\"text-align: right;\">\n",
       "      <th>RIAGENDRx</th>\n",
       "      <th>Female</th>\n",
       "      <th>Male</th>\n",
       "    </tr>\n",
       "    <tr>\n",
       "      <th>SMQ020x</th>\n",
       "      <th></th>\n",
       "      <th></th>\n",
       "    </tr>\n",
       "  </thead>\n",
       "  <tbody>\n",
       "    <tr>\n",
       "      <th>No</th>\n",
       "      <td>2066</td>\n",
       "      <td>1340</td>\n",
       "    </tr>\n",
       "    <tr>\n",
       "      <th>Yes</th>\n",
       "      <td>906</td>\n",
       "      <td>1413</td>\n",
       "    </tr>\n",
       "  </tbody>\n",
       "</table>\n",
       "</div>"
      ],
      "text/plain": [
       "RIAGENDRx  Female  Male\n",
       "SMQ020x                \n",
       "No           2066  1340\n",
       "Yes           906  1413"
      ]
     },
     "execution_count": 4,
     "metadata": {},
     "output_type": "execute_result"
    }
   ],
   "source": [
    "dx = da[['SMQ020x','RIAGENDRx']].dropna()\n",
    "pd.crosstab(dx['SMQ020x'],dx['RIAGENDRx'])"
   ]
  },
  {
   "cell_type": "markdown",
   "metadata": {},
   "source": [
    "The confidence interval (CI) is constructed using two inputs: the sample proportion of smokers, and the total sample size for smokers and non-smokers combined. We calculate these values next."
   ]
  },
  {
   "cell_type": "code",
   "execution_count": 5,
   "metadata": {},
   "outputs": [
    {
     "data": {
      "text/html": [
       "<div>\n",
       "<style scoped>\n",
       "    .dataframe tbody tr th:only-of-type {\n",
       "        vertical-align: middle;\n",
       "    }\n",
       "\n",
       "    .dataframe tbody tr th {\n",
       "        vertical-align: top;\n",
       "    }\n",
       "\n",
       "    .dataframe thead th {\n",
       "        text-align: right;\n",
       "    }\n",
       "</style>\n",
       "<table border=\"1\" class=\"dataframe\">\n",
       "  <thead>\n",
       "    <tr style=\"text-align: right;\">\n",
       "      <th></th>\n",
       "      <th>Proportion</th>\n",
       "      <th>Total_n</th>\n",
       "    </tr>\n",
       "    <tr>\n",
       "      <th>RIAGENDRx</th>\n",
       "      <th></th>\n",
       "      <th></th>\n",
       "    </tr>\n",
       "  </thead>\n",
       "  <tbody>\n",
       "    <tr>\n",
       "      <th>Female</th>\n",
       "      <td>0.304845</td>\n",
       "      <td>2972</td>\n",
       "    </tr>\n",
       "    <tr>\n",
       "      <th>Male</th>\n",
       "      <td>0.513258</td>\n",
       "      <td>2753</td>\n",
       "    </tr>\n",
       "  </tbody>\n",
       "</table>\n",
       "</div>"
      ],
      "text/plain": [
       "           Proportion  Total_n\n",
       "RIAGENDRx                     \n",
       "Female       0.304845     2972\n",
       "Male         0.513258     2753"
      ]
     },
     "execution_count": 5,
     "metadata": {},
     "output_type": "execute_result"
    }
   ],
   "source": [
    "dz = dx.groupby(dx['RIAGENDRx']).agg({'SMQ020x':[lambda x: np.mean(x=='Yes'),np.size]})\n",
    "dz.columns = ['Proportion','Total_n']\n",
    "dz"
   ]
  },
  {
   "cell_type": "markdown",
   "metadata": {},
   "source": [
    "Since standard error plays a very important role, lets calculate it"
   ]
  },
  {
   "cell_type": "code",
   "execution_count": 6,
   "metadata": {},
   "outputs": [
    {
     "name": "stdout",
     "output_type": "stream",
     "text": [
      "0.008444152146214435\n",
      "0.009526078653689868\n"
     ]
    }
   ],
   "source": [
    "# Estimate the standard error for the proportion of females who smoke\n",
    "p = dz.loc['Female']['Proportion']\n",
    "n = dz.loc['Female']['Total_n']\n",
    "se_female = np.sqrt((p*(1-p))/n)\n",
    "print(se_female)\n",
    "\n",
    "# Estimate the standard error for the proportion of males who smoke\n",
    "p = dz.loc['Male']['Proportion']\n",
    "n = dz.loc['Male']['Total_n']\n",
    "se_male = np.sqrt((p*(1-p))/n)\n",
    "print(se_male)"
   ]
  },
  {
   "cell_type": "markdown",
   "metadata": {},
   "source": [
    "Next we calculate the 95% confidence intervals for the proportions of female and male smokers using the formula for the one-sample confidence interval for a proportion:"
   ]
  },
  {
   "cell_type": "code",
   "execution_count": 7,
   "metadata": {},
   "outputs": [
    {
     "name": "stdout",
     "output_type": "stream",
     "text": [
      "0.288294683866098 0.32139576027925865\n"
     ]
    }
   ],
   "source": [
    "p = dz.Proportion.Female # Female proportion\n",
    "n = dz.Total_n.Female # Total number of females\n",
    "lcb = p - 1.96 * np.sqrt(p * (1 - p) / n)  \n",
    "ucb = p + 1.96 * np.sqrt(p * (1 - p) / n)  \n",
    "print(lcb, ucb)"
   ]
  },
  {
   "cell_type": "markdown",
   "metadata": {},
   "source": [
    "The results above indicate that any population proportion (for female lifetime smokers) between 0.288 and 0.321 would be compatible with the data that we observed in NHANES."
   ]
  },
  {
   "cell_type": "code",
   "execution_count": 8,
   "metadata": {},
   "outputs": [
    {
     "name": "stdout",
     "output_type": "stream",
     "text": [
      "0.49458714955108174 0.531929377873546\n"
     ]
    }
   ],
   "source": [
    "p = dz.Proportion.Male # Male proportion\n",
    "n = dz.Total_n.Male # Total number of males\n",
    "lcb = p - 1.96 * np.sqrt(p * (1 - p) / n)  \n",
    "ucb = p + 1.96 * np.sqrt(p * (1 - p) / n)  \n",
    "print(lcb, ucb)"
   ]
  },
  {
   "cell_type": "markdown",
   "metadata": {},
   "source": [
    "These results indicate that any population proportion (for male lifetime smokers) between 0.493 and 0.531 would be compatible with the NHANES data."
   ]
  },
  {
   "cell_type": "markdown",
   "metadata": {},
   "source": [
    "In a routine data analysis, we do not need to calculate these intervals manually. We can use the Statsmodels library to calculate the CI for us in one line:"
   ]
  },
  {
   "cell_type": "code",
   "execution_count": 9,
   "metadata": {},
   "outputs": [
    {
     "data": {
      "text/plain": [
       "(0.2882949879861214, 0.32139545615923526)"
      ]
     },
     "execution_count": 9,
     "metadata": {},
     "output_type": "execute_result"
    }
   ],
   "source": [
    "# 95% CI for the proportion of females who smoke (compare to value above)\n",
    "sm.stats.proportion_confint(906, 906+2066)"
   ]
  },
  {
   "cell_type": "code",
   "execution_count": 10,
   "metadata": {},
   "outputs": [
    {
     "data": {
      "text/plain": [
       "(0.49458749263718593, 0.5319290347874418)"
      ]
     },
     "execution_count": 10,
     "metadata": {},
     "output_type": "execute_result"
    }
   ],
   "source": [
    "# 95% CI for the proportion of males who smoke (compare to value above)\n",
    "sm.stats.proportion_confint(1413,1413+1340)"
   ]
  },
  {
   "cell_type": "markdown",
   "metadata": {},
   "source": [
    "#### __Confidence intervals comparing two independent proportions__\n",
    "\n",
    "The confidence intervals for the proportions of female and male smokers shown above are quite narrow and do not overlap.  This suggests that there is a substantial difference between the lifetime smoking rates for women and men. However there is no explicit information here about how different the two population proportions might be.  To address this question, we can form a confidence interval for the difference between the proportion of females who smoke and the proportion of males who smoke.  \n",
    "\n",
    "The point estimate of the difference between female and male smoking rates is -0.208 (0.305 minus 0.513, taking numbers from above).  That is, the smoking rate is about 20 percentage points higher in men than in women.  This difference of around 20 percentage points is only a point estimate of the true value -- it is not exactly equal to the difference between the unknown proportions of females and males who smoke in the population.  A confidence interval helps us assess how far the estimated difference may be from the true difference.\n",
    "\n",
    "As above, we start with the standard error.  The difference between two sample proportions based on independent data has a standard error that reflects the combined uncertainty in the two proportions being differenced.  This standard error can be calculated very easily.  If SE1 and SE2 are the standard errors for two proportions, then $\\sqrt{{\\rm SE1}^2 + {\\rm SE2}^2}$ is the standard error for the difference of these proportions.  Note that this formula is only accurate if the two sample proportions being differenced are based on independent samples.\n",
    "\n",
    "In the next cell we calculate the standard error for the difference between the proportion of females who smoke and the proportion of males who smoke."
   ]
  },
  {
   "cell_type": "code",
   "execution_count": 11,
   "metadata": {},
   "outputs": [
    {
     "data": {
      "text/plain": [
       "np.float64(0.012729881381407434)"
      ]
     },
     "execution_count": 11,
     "metadata": {},
     "output_type": "execute_result"
    }
   ],
   "source": [
    "se_diff = np.sqrt(se_female**2 + se_male**2)\n",
    "se_diff"
   ]
  },
  {
   "cell_type": "markdown",
   "metadata": {},
   "source": [
    "Now that we have the standard error, we can construct a 95% confidence interval for the difference in proportions by taking the estimate and subtracting and adding two (or 1.96) standard errors from it."
   ]
  },
  {
   "cell_type": "code",
   "execution_count": 12,
   "metadata": {},
   "outputs": [
    {
     "name": "stdout",
     "output_type": "stream",
     "text": [
      "-0.2333636091471941 -0.18346247413207697\n"
     ]
    }
   ],
   "source": [
    "d = dz['Proportion']['Female'] - dz['Proportion']['Male']\n",
    "lcb = d - 1.96 * se_diff\n",
    "ucb = d + 1.96 * se_diff\n",
    "print(lcb,ucb)"
   ]
  },
  {
   "cell_type": "markdown",
   "metadata": {},
   "source": [
    "The 95% confidence interval above shows us that any value for the difference of population proportions (between females and males) lying between -0.233 and -0.183 is consistent with the observed data."
   ]
  },
  {
   "cell_type": "markdown",
   "metadata": {},
   "source": [
    "#### __Confidence intervals for subpopulations__\n",
    "\n",
    "Since smoking rates vary strongly with age, it might be informative to stratify the data into homogeneous age bands and compare the proportions of female and male smokers within each age band. We can also calculate the 95% confidence interval for this difference within each age band. These data can be displayed as a plot, with the difference in proportions plotted as a curve. The confidence intervals can then be used to construct a \"confidence band\" around the estimates."
   ]
  },
  {
   "cell_type": "code",
   "execution_count": 13,
   "metadata": {},
   "outputs": [
    {
     "data": {
      "text/plain": [
       "Text(0, 0.5, 'Female-male smoking proportion')"
      ]
     },
     "execution_count": 13,
     "metadata": {},
     "output_type": "execute_result"
    },
    {
     "data": {
      "image/png": "[encoded data removed]",
      "text/plain": [
       "<Figure size 640x480 with 1 Axes>"
      ]
     },
     "metadata": {},
     "output_type": "display_data"
    }
   ],
   "source": [
    "# Calculate the smoking rates within age/gender groups\n",
    "da['agegrp'] = pd.cut(da['RIDAGEYR'], [18,30,40,50,60,70,80])\n",
    "pr = da.groupby(['agegrp','RIAGENDRx'], observed=False).agg({'SMQ020x': lambda x: np.mean(x=='Yes')}).unstack()\n",
    "pr.columns = ['Female','Male']\n",
    "\n",
    "# The number of people for each calculated proportion\n",
    "dn = da.groupby(['agegrp','RIAGENDRx'], observed=False).agg({'SMQ020x': np.size}).unstack()\n",
    "dn.columns = ['Female','Male']\n",
    "\n",
    "# Standard errors for each proportion\n",
    "se = np.sqrt(pr * (1 - pr) / dn)\n",
    "\n",
    "# Standard error for the difference in female/male smoking rates in every age band\n",
    "se_diff = np.sqrt(se.Female**2 + se.Male**2)\n",
    "\n",
    "# Standard errors for the difference in smoking rates between genders, within age bands\n",
    "\n",
    "# The difference in smoking rates between genders\n",
    "pq = pr.Female - pr.Male\n",
    "\n",
    "x = np.arange(pq.size)\n",
    "pp = sns.pointplot(x=x, y=pq.values, color='black')\n",
    "sns.pointplot(x=x,y=pq-2*se_diff)\n",
    "sns.pointplot(x=x,y=pq+2*se_diff)\n",
    "pp.set_xticks(range(len(pq.index))) \n",
    "pp.set_xticklabels(pq.index)\n",
    "pp.set_xlabel('Age group')\n",
    "pp.set_ylabel('Female-male smoking proportion')"
   ]
  },
  {
   "cell_type": "markdown",
   "metadata": {},
   "source": [
    "The plot above shows for each age band, the point estimate of the difference in smoking rates between genders (black dot), and the lower and upper end points of the 95% confidence interval (blue points). Based on this plot, we see that in the United States, smoking is more common in men than in women, not just overall, but also in every one of the age bands. The difference is largest for older people -- for people older than 60, the smoking rate for males is around 30 percentage points greater than the smoking rate for females, while for people younger than 30, the smoking rate for males is only around 15 percentage points greater than the smoking rate for females.\n",
    "\n",
    "Also note that the 95% confidence bands shown above are much wider than the 95% confidence intervals for the data that were not stratified by age. Stratifying by age leads to smaller sample sizes, which in turn results in wider confidence intervals."
   ]
  },
  {
   "cell_type": "markdown",
   "metadata": {},
   "source": [
    "#### __Confidence interval for the mean__\n",
    "\n",
    "In this section, we discuss how to construct confidence intervals for the mean. First note that the proportion discussed above is also a mean -- for example, if the data are 0, 1, 0, then the mean is 1/3, which is also the proportion of 1's in the data. However the proportion has the special property that the variance is completely determined by the mean. That is why we constructed the standard errors for the sample proportion above using  𝑝⋅(1−𝑝) as the variance. In general, the variance of quantitative data will not be a function of the mean, as this is a very special property of binary data. Therefore, in general we must estimate the variance as a separate step after estimating the mean.\n",
    "\n",
    "To illustrate the construction of confidence intervals for the population mean of a quantitative variable, we will use the body mass index (BMI) data from NHANES. To begin, we calculate the mean BMI for all women and for all men in the NHANES sample."
   ]
  },
  {
   "cell_type": "code",
   "execution_count": 14,
   "metadata": {},
   "outputs": [
    {
     "data": {
      "text/html": [
       "<div>\n",
       "<style scoped>\n",
       "    .dataframe tbody tr th:only-of-type {\n",
       "        vertical-align: middle;\n",
       "    }\n",
       "\n",
       "    .dataframe tbody tr th {\n",
       "        vertical-align: top;\n",
       "    }\n",
       "\n",
       "    .dataframe thead th {\n",
       "        text-align: right;\n",
       "    }\n",
       "</style>\n",
       "<table border=\"1\" class=\"dataframe\">\n",
       "  <thead>\n",
       "    <tr style=\"text-align: right;\">\n",
       "      <th></th>\n",
       "      <th>BMXBMI</th>\n",
       "    </tr>\n",
       "    <tr>\n",
       "      <th>RIAGENDRx</th>\n",
       "      <th></th>\n",
       "    </tr>\n",
       "  </thead>\n",
       "  <tbody>\n",
       "    <tr>\n",
       "      <th>Female</th>\n",
       "      <td>29.939946</td>\n",
       "    </tr>\n",
       "    <tr>\n",
       "      <th>Male</th>\n",
       "      <td>28.778072</td>\n",
       "    </tr>\n",
       "  </tbody>\n",
       "</table>\n",
       "</div>"
      ],
      "text/plain": [
       "              BMXBMI\n",
       "RIAGENDRx           \n",
       "Female     29.939946\n",
       "Male       28.778072"
      ]
     },
     "execution_count": 14,
     "metadata": {},
     "output_type": "execute_result"
    }
   ],
   "source": [
    "da.groupby('RIAGENDRx').agg({'BMXBMI':'mean'})"
   ]
  },
  {
   "cell_type": "code",
   "execution_count": 15,
   "metadata": {},
   "outputs": [
    {
     "data": {
      "text/html": [
       "<div>\n",
       "<style scoped>\n",
       "    .dataframe tbody tr th:only-of-type {\n",
       "        vertical-align: middle;\n",
       "    }\n",
       "\n",
       "    .dataframe tbody tr th {\n",
       "        vertical-align: top;\n",
       "    }\n",
       "\n",
       "    .dataframe thead tr th {\n",
       "        text-align: left;\n",
       "    }\n",
       "\n",
       "    .dataframe thead tr:last-of-type th {\n",
       "        text-align: right;\n",
       "    }\n",
       "</style>\n",
       "<table border=\"1\" class=\"dataframe\">\n",
       "  <thead>\n",
       "    <tr>\n",
       "      <th></th>\n",
       "      <th colspan=\"3\" halign=\"left\">BMXBMI</th>\n",
       "    </tr>\n",
       "    <tr>\n",
       "      <th></th>\n",
       "      <th>mean</th>\n",
       "      <th>std</th>\n",
       "      <th>size</th>\n",
       "    </tr>\n",
       "    <tr>\n",
       "      <th>RIAGENDRx</th>\n",
       "      <th></th>\n",
       "      <th></th>\n",
       "      <th></th>\n",
       "    </tr>\n",
       "  </thead>\n",
       "  <tbody>\n",
       "    <tr>\n",
       "      <th>Female</th>\n",
       "      <td>29.939946</td>\n",
       "      <td>7.753319</td>\n",
       "      <td>2976</td>\n",
       "    </tr>\n",
       "    <tr>\n",
       "      <th>Male</th>\n",
       "      <td>28.778072</td>\n",
       "      <td>6.252568</td>\n",
       "      <td>2759</td>\n",
       "    </tr>\n",
       "  </tbody>\n",
       "</table>\n",
       "</div>"
      ],
      "text/plain": [
       "              BMXBMI                \n",
       "                mean       std  size\n",
       "RIAGENDRx                           \n",
       "Female     29.939946  7.753319  2976\n",
       "Male       28.778072  6.252568  2759"
      ]
     },
     "execution_count": 15,
     "metadata": {},
     "output_type": "execute_result"
    }
   ],
   "source": [
    "da.groupby('RIAGENDRx').agg({'BMXBMI':['mean','std',np.size]})"
   ]
  },
  {
   "cell_type": "markdown",
   "metadata": {},
   "source": [
    "We can now calculate the standard error of the mean BMI for women and for men:"
   ]
  },
  {
   "cell_type": "code",
   "execution_count": 16,
   "metadata": {},
   "outputs": [
    {
     "name": "stdout",
     "output_type": "stream",
     "text": [
      "0.14211938534506902 0.119045388988243\n"
     ]
    }
   ],
   "source": [
    "sem_female = 7.753 / np.sqrt(2976)\n",
    "sem_male = 6.253 / np.sqrt(2759)\n",
    "print(sem_female, sem_male)"
   ]
  },
  {
   "cell_type": "markdown",
   "metadata": {},
   "source": [
    "We see that the sample mean BMI for women is expected to be off by around 0.14 relative to the population mean BMI for women, and the sample mean BMI for men is expected to be off by around 0.12 relative to the population mean BMI for men.\n",
    "\n",
    "The standard error of the mean for women is slightly larger for women than for men. The reason for this is that even though the NHANES sample size for women is slightly larger than that for men, the data for women appears to be more dispersed. The greater standard deviation for the female BMI values leads in turn to less precision when estimating the population mean BMI for females.\n",
    "\n",
    "As was the case for proportions, the 95% confidence interval for the mean can be calculated by taking the estimate plus and minus 2 (or 1.96) times the standard error. The 95% confidence interval for female BMI is thus calculated as follows:"
   ]
  },
  {
   "cell_type": "code",
   "execution_count": 17,
   "metadata": {},
   "outputs": [
    {
     "name": "stdout",
     "output_type": "stream",
     "text": [
      "29.661446004723665 30.218553995276338\n"
     ]
    }
   ],
   "source": [
    "lcb_female = 29.94 - 1.96 * 7.753 / np.sqrt(2976)\n",
    "ucb_female = 29.94 + 1.96 * 7.753 / np.sqrt(2976)\n",
    "print(lcb_female, ucb_female)"
   ]
  },
  {
   "cell_type": "markdown",
   "metadata": {},
   "source": [
    "Below we show how the one-sample confidence interval can be calculated using Statsmodels. The numbers differ slightly due to rounding in the calculation above. The result below is more exact."
   ]
  },
  {
   "cell_type": "code",
   "execution_count": 18,
   "metadata": {},
   "outputs": [
    {
     "data": {
      "text/plain": [
       "(np.float64(29.659875498090155), np.float64(30.22001580625768))"
      ]
     },
     "execution_count": 18,
     "metadata": {},
     "output_type": "execute_result"
    }
   ],
   "source": [
    "female_bmi = da.loc[da['RIAGENDRx']=='Female','BMXBMI'].dropna()\n",
    "sm.stats.DescrStatsW(female_bmi).zconfint_mean()"
   ]
  },
  {
   "cell_type": "markdown",
   "metadata": {},
   "source": [
    "#### __Confidence intervals for the difference between two means__\n",
    "\n",
    "Now we turn to studying the difference between two means, taking the difference between mean female and mean male BMI values for illustration. As discussed above, the standard error for the difference of two means taken from independent samples is $√SE1^2+SE2^2$, where SE1 and SE2 are the standard errors for the two means being compared. This is a very important \"variance pooling rule\" that appears frequently in statistical calculations.\n",
    "\n",
    "Below we see that the variance pooling rule gives us a value around 0.19 when comparing the female BMI to the male BMI. This is substantially larger than either the SEM for estimating the female mean (0.14) or the SEM for estimating the male mean (0.12). It is expected that the standard error for the difference between two means is greater than the standard errors for estimating a single mean, since the uncertainty of both gender-specific proportions impacts the statistic."
   ]
  },
  {
   "cell_type": "code",
   "execution_count": 19,
   "metadata": {},
   "outputs": [
    {
     "data": {
      "text/plain": [
       "np.float64(0.18539073420811059)"
      ]
     },
     "execution_count": 19,
     "metadata": {},
     "output_type": "execute_result"
    }
   ],
   "source": [
    "sem_diff = np.sqrt(sem_female**2 + sem_male**2)\n",
    "sem_diff"
   ]
  },
  {
   "cell_type": "markdown",
   "metadata": {},
   "source": [
    "We can can now construct a 95% confidence interval for the difference between the female and male mean BMI."
   ]
  },
  {
   "cell_type": "code",
   "execution_count": 20,
   "metadata": {},
   "outputs": [
    {
     "data": {
      "text/plain": [
       "(np.float64(0.789218531583779), np.float64(1.5307814684162213))"
      ]
     },
     "execution_count": 20,
     "metadata": {},
     "output_type": "execute_result"
    }
   ],
   "source": [
    "bmi_diff = 29.94 - 28.78\n",
    "lcb = bmi_diff - 2 * sem_diff\n",
    "ucb = bmi_diff + 2 * sem_diff\n",
    "(lcb,ucb)"
   ]
  },
  {
   "cell_type": "markdown",
   "metadata": {},
   "source": [
    "This finding indicates that while the point estimate shows that the women in our sample have around 1.1 unit greater BMI than the men in our sample, the true difference between the mean for all women in the population and for all men in the population could fall between 0.79 and 1.53, and still be consistent with the observed data. We should remember that the true difference could even fall outside of this interval, but this should only happen 1 in 20 times."
   ]
  },
  {
   "cell_type": "markdown",
   "metadata": {},
   "source": [
    "#### __Age-stratified confidence interval__\n",
    "\n",
    "As a final example, we refine the analysis above by considering the difference of mean BMI values between females and males within age bands. Since age is a quantitative variable, it makes sense to plot these confidence intervals as functions of age. The plot constructed below displays the point estimate of the female/male BMI difference as a black curve, and the lower and upper confidence limits are displayed as blue curves."
   ]
  },
  {
   "cell_type": "code",
   "execution_count": 40,
   "metadata": {},
   "outputs": [
    {
     "name": "stderr",
     "output_type": "stream",
     "text": [
      "/var/folders/1_/wks594vd2m92nsrd4rjjy3r00000gn/T/ipykernel_1083/1538221556.py:21: UserWarning: set_ticklabels() should only be used with a fixed number of ticks, i.e. after set_ticks() or using a FixedLocator.\n",
      "  pp.set_xticklabels(pr.index)\n"
     ]
    },
    {
     "data": {
      "text/plain": [
       "Text(0, 0.5, 'Female - male BMI difference')"
      ]
     },
     "execution_count": 40,
     "metadata": {},
     "output_type": "execute_result"
    },
    {
     "data": {
      "image/png": "[encoded data removed]",
      "text/plain": [
       "<Figure size 640x480 with 1 Axes>"
      ]
     },
     "metadata": {},
     "output_type": "display_data"
    }
   ],
   "source": [
    "# Calculate the mean, SD, and sample size for BMI within age/gender groups\n",
    "da['agegrp'] = pd.cut(da['RIDAGEYR'],[18,30,40,50,60,70,80])\n",
    "pr = da.groupby(['agegrp','RIAGENDRx'],observed=False).agg({'BMXBMI': ['mean', 'std', np.size]}).unstack()\n",
    "\n",
    "# Calculate the SEM for females and for males within each age band\n",
    "pr['BMXBMI','sem','Female'] = pr['BMXBMI','std','Female']/np.sqrt(pr['BMXBMI','size','Female'])\n",
    "pr['BMXBMI','sem','Male'] = pr['BMXBMI','std','Male']/np.sqrt(pr['BMXBMI','size','Male'])\n",
    "\n",
    "# Calculate the mean difference of BMI between females and males within each age band, \n",
    "# also calculate its SE and the lower and upper limits of its 95% CI.\n",
    "pr['BMXBMI','mean_diff',''] = pr['BMXBMI','mean','Female'] - pr['BMXBMI','mean','Male']\n",
    "pr['BMXBMI','sem_diff',''] = np.sqrt(pr['BMXBMI','sem','Female']**2 + pr['BMXBMI','sem','Male']**2)\n",
    "pr['BMXBMI','lcb_diff',''] = pr['BMXBMI','mean_diff',''] - 1.96 * pr['BMXBMI','sem_diff','']\n",
    "pr['BMXBMI','ucb_diff',''] = pr['BMXBMI','mean_diff',''] + 1.96 * pr['BMXBMI','sem_diff','']\n",
    "\n",
    "# Plot the mean difference in black and the confidence limits in blue\n",
    "x = np.arange(pr.shape[0])\n",
    "pp = sns.pointplot(x=x,y=pr['BMXBMI','mean_diff',''],color='black')\n",
    "sns.pointplot(x=x,y=pr['BMXBMI','lcb_diff',''],color='blue')\n",
    "sns.pointplot(x=x,y=pr['BMXBMI','ucb_diff',''],color='blue')\n",
    "pp.set_xticklabels(pr.index)\n",
    "pp.set_xlabel('Age group')\n",
    "pp.set_ylabel('Female - male BMI difference')"
   ]
  },
  {
   "cell_type": "markdown",
   "metadata": {},
   "source": [
    "We see above that the overall average difference of 1.1 units results from pooling differences that are very different based on age. Specifically, the difference between female and male BMI is much smaller than 1.1 for younger people, and much larger than 1.1 for older people.\n",
    "\n",
    "Since the confidence bands for people under 40 contain 0, the data are consistent with there being no difference between female and male BMI in this age range. For people older than 40, a hypothetical zero difference between the mean BMI values for females and males is not very consistent with the data. Informally, we can say that the data strongly suggest that the female mean BMI is greater than the male mean BMI in this age band, with the difference being anywhere from 0.5 to 2 units."
   ]
  },
  {
   "cell_type": "markdown",
   "metadata": {},
   "source": [
    "<u>__Inter-group and intra-group differences__</u>: As the sample size grows, estimates become increasingly precise, but it is important to remember that a highly precise estimate for the mean does not imply that individuals within a population do not vary from each other. To put the differences shown above into greater context, below we show the underlying summaries on which the plot above was based. Note that the standard deviation of BMI within both females and males ranges from around 5 to around 8 depending on the age band. This means, for example, that two randomly-selected males will tend to have BMI values that differ by around 6 units. This is a far greater difference than the mean difference of up to around 1.5 BMI units between females and males. Thus, while there is a tendency for females to have slightly higher BMI than males, the heterogeneity within genders is substantially greater than the difference of means between genders."
   ]
  },
  {
   "cell_type": "code",
   "execution_count": 41,
   "metadata": {},
   "outputs": [
    {
     "data": {
      "text/html": [
       "<div>\n",
       "<style scoped>\n",
       "    .dataframe tbody tr th:only-of-type {\n",
       "        vertical-align: middle;\n",
       "    }\n",
       "\n",
       "    .dataframe tbody tr th {\n",
       "        vertical-align: top;\n",
       "    }\n",
       "\n",
       "    .dataframe thead tr th {\n",
       "        text-align: left;\n",
       "    }\n",
       "\n",
       "    .dataframe thead tr:last-of-type th {\n",
       "        text-align: right;\n",
       "    }\n",
       "</style>\n",
       "<table border=\"1\" class=\"dataframe\">\n",
       "  <thead>\n",
       "    <tr>\n",
       "      <th></th>\n",
       "      <th colspan=\"12\" halign=\"left\">BMXBMI</th>\n",
       "    </tr>\n",
       "    <tr>\n",
       "      <th></th>\n",
       "      <th colspan=\"2\" halign=\"left\">mean</th>\n",
       "      <th colspan=\"2\" halign=\"left\">std</th>\n",
       "      <th colspan=\"2\" halign=\"left\">size</th>\n",
       "      <th colspan=\"2\" halign=\"left\">sem</th>\n",
       "      <th>mean_diff</th>\n",
       "      <th>sem_diff</th>\n",
       "      <th>lcb_diff</th>\n",
       "      <th>ucb_diff</th>\n",
       "    </tr>\n",
       "    <tr>\n",
       "      <th>RIAGENDRx</th>\n",
       "      <th>Female</th>\n",
       "      <th>Male</th>\n",
       "      <th>Female</th>\n",
       "      <th>Male</th>\n",
       "      <th>Female</th>\n",
       "      <th>Male</th>\n",
       "      <th>Female</th>\n",
       "      <th>Male</th>\n",
       "      <th></th>\n",
       "      <th></th>\n",
       "      <th></th>\n",
       "      <th></th>\n",
       "    </tr>\n",
       "    <tr>\n",
       "      <th>agegrp</th>\n",
       "      <th></th>\n",
       "      <th></th>\n",
       "      <th></th>\n",
       "      <th></th>\n",
       "      <th></th>\n",
       "      <th></th>\n",
       "      <th></th>\n",
       "      <th></th>\n",
       "      <th></th>\n",
       "      <th></th>\n",
       "      <th></th>\n",
       "      <th></th>\n",
       "    </tr>\n",
       "  </thead>\n",
       "  <tbody>\n",
       "    <tr>\n",
       "      <th>(18, 30]</th>\n",
       "      <td>28.123881</td>\n",
       "      <td>27.391822</td>\n",
       "      <td>7.745893</td>\n",
       "      <td>6.649440</td>\n",
       "      <td>609</td>\n",
       "      <td>544</td>\n",
       "      <td>0.313879</td>\n",
       "      <td>0.285092</td>\n",
       "      <td>0.732059</td>\n",
       "      <td>0.424026</td>\n",
       "      <td>-0.099032</td>\n",
       "      <td>1.563150</td>\n",
       "    </tr>\n",
       "    <tr>\n",
       "      <th>(30, 40]</th>\n",
       "      <td>30.325586</td>\n",
       "      <td>29.611726</td>\n",
       "      <td>8.315608</td>\n",
       "      <td>6.622412</td>\n",
       "      <td>474</td>\n",
       "      <td>458</td>\n",
       "      <td>0.381949</td>\n",
       "      <td>0.309445</td>\n",
       "      <td>0.713861</td>\n",
       "      <td>0.491570</td>\n",
       "      <td>-0.249616</td>\n",
       "      <td>1.677338</td>\n",
       "    </tr>\n",
       "    <tr>\n",
       "      <th>(40, 50]</th>\n",
       "      <td>31.160643</td>\n",
       "      <td>29.724623</td>\n",
       "      <td>8.076195</td>\n",
       "      <td>6.407076</td>\n",
       "      <td>502</td>\n",
       "      <td>401</td>\n",
       "      <td>0.360458</td>\n",
       "      <td>0.319954</td>\n",
       "      <td>1.436019</td>\n",
       "      <td>0.481976</td>\n",
       "      <td>0.491347</td>\n",
       "      <td>2.380692</td>\n",
       "    </tr>\n",
       "    <tr>\n",
       "      <th>(50, 60]</th>\n",
       "      <td>30.743777</td>\n",
       "      <td>29.231486</td>\n",
       "      <td>7.575848</td>\n",
       "      <td>5.914373</td>\n",
       "      <td>470</td>\n",
       "      <td>454</td>\n",
       "      <td>0.349448</td>\n",
       "      <td>0.277575</td>\n",
       "      <td>1.512291</td>\n",
       "      <td>0.446275</td>\n",
       "      <td>0.637591</td>\n",
       "      <td>2.386991</td>\n",
       "    </tr>\n",
       "    <tr>\n",
       "      <th>(60, 70]</th>\n",
       "      <td>31.074828</td>\n",
       "      <td>29.392488</td>\n",
       "      <td>7.604514</td>\n",
       "      <td>5.933307</td>\n",
       "      <td>441</td>\n",
       "      <td>437</td>\n",
       "      <td>0.362120</td>\n",
       "      <td>0.283829</td>\n",
       "      <td>1.682340</td>\n",
       "      <td>0.460097</td>\n",
       "      <td>0.780550</td>\n",
       "      <td>2.584130</td>\n",
       "    </tr>\n",
       "    <tr>\n",
       "      <th>(70, 80]</th>\n",
       "      <td>29.138213</td>\n",
       "      <td>27.957692</td>\n",
       "      <td>6.284968</td>\n",
       "      <td>4.974855</td>\n",
       "      <td>410</td>\n",
       "      <td>402</td>\n",
       "      <td>0.310392</td>\n",
       "      <td>0.248123</td>\n",
       "      <td>1.180521</td>\n",
       "      <td>0.397377</td>\n",
       "      <td>0.401662</td>\n",
       "      <td>1.959380</td>\n",
       "    </tr>\n",
       "  </tbody>\n",
       "</table>\n",
       "</div>"
      ],
      "text/plain": [
       "              BMXBMI                                                       \\\n",
       "                mean                  std             size            sem   \n",
       "RIAGENDRx     Female       Male    Female      Male Female Male    Female   \n",
       "agegrp                                                                      \n",
       "(18, 30]   28.123881  27.391822  7.745893  6.649440    609  544  0.313879   \n",
       "(30, 40]   30.325586  29.611726  8.315608  6.622412    474  458  0.381949   \n",
       "(40, 50]   31.160643  29.724623  8.076195  6.407076    502  401  0.360458   \n",
       "(50, 60]   30.743777  29.231486  7.575848  5.914373    470  454  0.349448   \n",
       "(60, 70]   31.074828  29.392488  7.604514  5.933307    441  437  0.362120   \n",
       "(70, 80]   29.138213  27.957692  6.284968  4.974855    410  402  0.310392   \n",
       "\n",
       "                                                             \n",
       "                    mean_diff  sem_diff  lcb_diff  ucb_diff  \n",
       "RIAGENDRx      Male                                          \n",
       "agegrp                                                       \n",
       "(18, 30]   0.285092  0.732059  0.424026 -0.099032  1.563150  \n",
       "(30, 40]   0.309445  0.713861  0.491570 -0.249616  1.677338  \n",
       "(40, 50]   0.319954  1.436019  0.481976  0.491347  2.380692  \n",
       "(50, 60]   0.277575  1.512291  0.446275  0.637591  2.386991  \n",
       "(60, 70]   0.283829  1.682340  0.460097  0.780550  2.584130  \n",
       "(70, 80]   0.248123  1.180521  0.397377  0.401662  1.959380  "
      ]
     },
     "execution_count": 41,
     "metadata": {},
     "output_type": "execute_result"
    }
   ],
   "source": [
    "pr"
   ]
  },
  {
   "cell_type": "markdown",
   "metadata": {},
   "source": [
    "#### __Confidence intervals and sample size__\n",
    "Confidence intervals reflect the precision of an estimate, which is largely driven by the amount of data used to construct the estimate. We can explore the relationship between precision and sample size by subampling data from NHANES and calculating confidence intervals for the subsamples. Below we calculate confidence intervals based on subsamples of size 100, 200, 400, and 800.\n",
    "\n",
    "A wider confidence interval implies that we have less precision in our estimate. In the simulation below, we calculate the average width of the confidence intervals constructed for each sample size. We see that the confidence interval steadily becomes shorter as the sample size grows. For most settings, the confidence interval will become around half as wide when the sample size is increased by a factor of 4. Below we see this scaling when the sample size increases from 100 to 400, and when it increases from 200 to 800, both of which are increases by a factor of 4."
   ]
  },
  {
   "cell_type": "code",
   "execution_count": 52,
   "metadata": {},
   "outputs": [
    {
     "name": "stdout",
     "output_type": "stream",
     "text": [
      "100 3.033337196513884\n",
      "200 2.1566860884733643\n",
      "400 1.5167556791649588\n",
      "800 1.0739848665339409\n"
     ]
    }
   ],
   "source": [
    "dx = da.loc[da['RIAGENDRx']=='Female',['RIAGENDRx','BMXBMI']].dropna()\n",
    "\n",
    "all_cis = []\n",
    "for n in 100,200,400,800:\n",
    "    cis = []\n",
    "    for i in range(500):\n",
    "        dz =dx.sample(n)\n",
    "        ci = sm.stats.DescrStatsW(dz['BMXBMI']).zconfint_mean()\n",
    "        cis.append(ci)\n",
    "    cis = np.asarray(cis)\n",
    "    mean_width = cis[:,1].mean()-cis[:,0].mean() \n",
    "    print(n,mean_width)\n",
    "    all_cis.append(cis)    "
   ]
  },
  {
   "cell_type": "markdown",
   "metadata": {},
   "source": [
    "It is also informative to plot the individual confidence intervals, computed for 500 subsamples of size 100, to see how they vary. The vertical grey bars below each correspond to a confidence interval. The red horizontal line is the mean BMI calculated using the entire data set, which can be taken as a proxy for other population mean. While the individual intervals are quite different from each other, it appears that the vast majority of them cover the population value."
   ]
  },
  {
   "cell_type": "code",
   "execution_count": 54,
   "metadata": {},
   "outputs": [
    {
     "name": "stdout",
     "output_type": "stream",
     "text": [
      "[[27.94341956 30.99258044]\n",
      " [28.45676729 31.62923271]\n",
      " [28.51076314 31.86923686]\n",
      " [28.50886733 31.42513267]\n",
      " [28.25055836 31.26144164]\n",
      " [28.19928533 30.93471467]\n",
      " [29.54622716 32.86377284]\n",
      " [28.78235316 31.84964684]\n",
      " [27.66699029 30.68900971]\n",
      " [28.76516798 32.65283202]\n",
      " [28.31189719 31.38210281]\n",
      " [27.94830081 30.60769919]\n",
      " [27.49352793 30.26647207]\n",
      " [29.08594121 32.28205879]\n",
      " [28.17722889 30.91677111]\n",
      " [29.33696787 33.07103213]\n",
      " [28.08549945 30.97650055]\n",
      " [28.04244627 31.01755373]\n",
      " [28.98085597 32.10914403]\n",
      " [28.98435244 32.17964756]\n",
      " [28.86334512 32.07265488]\n",
      " [28.98079156 32.19320844]\n",
      " [29.05488528 32.58111472]\n",
      " [28.63061946 31.62938054]\n",
      " [28.70318569 31.91681431]\n",
      " [27.79983614 30.92016386]\n",
      " [29.57952857 33.25447143]\n",
      " [29.45667705 32.98132295]\n",
      " [27.87522218 30.93677782]\n",
      " [28.26194246 31.60205754]\n",
      " [28.90953316 32.25246684]\n",
      " [28.8778335  31.9481665 ]\n",
      " [29.69862478 32.83337522]\n",
      " [28.44350554 31.52649446]\n",
      " [29.06567268 32.06032732]\n",
      " [27.29479785 30.05120215]\n",
      " [29.008962   32.579038  ]\n",
      " [28.57286715 31.52713285]\n",
      " [29.21106865 32.04493135]\n",
      " [29.19622796 32.34777204]\n",
      " [27.91899282 30.91900718]\n",
      " [28.49077158 31.88122842]\n",
      " [28.6975094  32.0644906 ]\n",
      " [27.43902647 30.45497353]\n",
      " [27.84158608 30.86041392]\n",
      " [27.03592686 29.65807314]\n",
      " [27.7871791  30.4428209 ]\n",
      " [28.09233465 30.86166535]\n",
      " [28.56564422 31.61235578]\n",
      " [27.97504148 30.49495852]\n",
      " [28.44580077 31.60419923]\n",
      " [29.06374701 32.30425299]\n",
      " [28.18099629 31.78300371]\n",
      " [28.86428972 32.41571028]\n",
      " [29.3339892  32.6580108 ]\n",
      " [28.20098034 31.05501966]\n",
      " [28.36683781 31.68316219]\n",
      " [27.69463562 30.55136438]\n",
      " [28.10253591 31.29346409]\n",
      " [29.80034453 32.60765547]\n",
      " [28.14322546 30.55677454]\n",
      " [28.38434635 31.46765365]\n",
      " [29.42599176 32.81200824]\n",
      " [28.94249208 32.08150792]\n",
      " [27.3391265  30.1328735 ]\n",
      " [28.66192374 31.86807626]\n",
      " [28.81416174 31.74983826]\n",
      " [28.75141859 31.47258141]\n",
      " [28.17493244 31.38906756]\n",
      " [27.75187082 30.95412918]\n",
      " [29.34951834 32.43448166]\n",
      " [29.37667016 32.44732984]\n",
      " [28.85981649 32.09818351]\n",
      " [27.94100617 31.14699383]\n",
      " [28.13864561 30.62535439]\n",
      " [27.23931075 30.50868925]\n",
      " [29.23488951 32.28911049]\n",
      " [28.71617909 32.16382091]\n",
      " [27.70106708 30.85893292]\n",
      " [27.46043314 30.06556686]\n",
      " [28.60719046 31.47480954]\n",
      " [28.88250889 31.54149111]\n",
      " [27.90567035 30.44032965]\n",
      " [27.51630918 30.46969082]\n",
      " [28.87305902 32.01894098]\n",
      " [26.45716157 29.11283843]\n",
      " [27.89891776 30.80508224]\n",
      " [29.38493058 32.06706942]\n",
      " [28.36634657 31.22965343]\n",
      " [29.86287912 32.85712088]\n",
      " [27.65374752 30.61025248]\n",
      " [28.39159202 31.61440798]\n",
      " [29.00109135 32.30290865]\n",
      " [29.30183346 32.32416654]\n",
      " [28.02020238 31.23779762]\n",
      " [27.89054751 30.81145249]\n",
      " [28.17280576 31.32319424]\n",
      " [28.8335997  31.7964003 ]\n",
      " [27.85579317 30.78820683]\n",
      " [28.46551453 31.39848547]\n",
      " [28.37029878 31.57770122]\n",
      " [28.1618374  31.1621626 ]\n",
      " [28.54261722 31.33538278]\n",
      " [29.90970006 33.02029994]\n",
      " [28.42602642 31.40797358]\n",
      " [28.55124656 31.52475344]\n",
      " [28.45147497 31.27452503]\n",
      " [28.73023741 31.59976259]\n",
      " [28.38279944 31.31320056]\n",
      " [27.67742223 30.53257777]\n",
      " [27.41208725 30.31391275]\n",
      " [28.21088119 31.22511881]\n",
      " [27.87561718 30.57238282]\n",
      " [27.14790675 30.09609325]\n",
      " [28.73760686 31.49639314]\n",
      " [29.40950107 32.80849893]\n",
      " [28.42774579 31.58025421]\n",
      " [27.35384199 30.24815801]\n",
      " [28.87826157 31.79173843]\n",
      " [28.70609808 31.51990192]\n",
      " [29.65510115 32.62089885]\n",
      " [27.81526491 30.67073509]\n",
      " [28.93644498 31.98555502]\n",
      " [28.08763774 30.82836226]\n",
      " [28.00806684 31.11593316]\n",
      " [28.5064481  31.9535519 ]\n",
      " [28.94938035 31.83061965]\n",
      " [28.16740949 31.04859051]\n",
      " [28.42592653 31.55007347]\n",
      " [28.60916128 31.86483872]\n",
      " [29.45601987 32.06998013]\n",
      " [28.57064849 31.41335151]\n",
      " [28.9631348  31.6768652 ]\n",
      " [28.07675669 30.74924331]\n",
      " [28.63908583 31.95091417]\n",
      " [28.39142543 31.46857457]\n",
      " [29.01721961 32.28878039]\n",
      " [29.0344488  32.0075512 ]\n",
      " [29.44126057 32.41073943]\n",
      " [28.40261952 31.56538048]\n",
      " [27.4186744  29.8633256 ]\n",
      " [27.60238052 30.26361948]\n",
      " [30.22359323 33.41240677]\n",
      " [28.30520207 30.73679793]\n",
      " [28.16468548 31.49731452]\n",
      " [29.13934647 31.91665353]\n",
      " [28.13041925 31.07758075]\n",
      " [26.92522974 29.80077026]\n",
      " [29.8957756  32.8242244 ]\n",
      " [28.50850127 31.74349873]\n",
      " [27.96910564 30.82689436]\n",
      " [28.28907775 31.63292225]\n",
      " [28.76599638 31.85000362]\n",
      " [28.38725689 31.73474311]\n",
      " [29.14879229 32.06520771]\n",
      " [28.43886109 31.58913891]\n",
      " [29.05266174 32.01333826]\n",
      " [27.58427972 30.90572028]\n",
      " [27.18110036 29.66289964]\n",
      " [27.81176369 30.71223631]\n",
      " [28.77955984 31.91444016]\n",
      " [27.05950453 29.61649547]\n",
      " [27.94994017 31.47005983]\n",
      " [29.07816958 32.26983042]\n",
      " [28.58716053 31.23683947]\n",
      " [28.67992794 31.54607206]\n",
      " [27.66193142 30.76406858]\n",
      " [27.72438458 30.98361542]\n",
      " [28.5674359  31.4405641 ]\n",
      " [29.04022714 32.08377286]\n",
      " [29.40436199 32.91763801]\n",
      " [27.85752044 30.90247956]\n",
      " [28.98286685 31.77713315]\n",
      " [27.3935443  30.5564557 ]\n",
      " [27.68386764 31.14413236]\n",
      " [27.98790362 30.90409638]\n",
      " [28.50281724 31.47118276]\n",
      " [28.5940659  31.5139341 ]\n",
      " [27.61402999 30.53997001]\n",
      " [28.21770258 31.14829742]\n",
      " [28.17886064 31.15513936]\n",
      " [28.75065915 31.73934085]\n",
      " [28.76100224 32.05699776]\n",
      " [27.98589223 31.03810777]\n",
      " [27.80976385 30.61823615]\n",
      " [29.04447788 31.82152212]\n",
      " [28.52552492 31.57647508]\n",
      " [28.23937091 31.68262909]\n",
      " [29.48528053 32.83671947]\n",
      " [29.61866049 32.89933951]\n",
      " [28.6814794  31.8825206 ]\n",
      " [29.25432994 32.35567006]\n",
      " [29.28662626 32.84937374]\n",
      " [28.64198584 31.88601416]\n",
      " [29.5527957  32.6112043 ]\n",
      " [28.11878916 31.06721084]\n",
      " [28.07416026 30.75183974]\n",
      " [29.33820428 32.36579572]\n",
      " [28.6070341  31.8469659 ]\n",
      " [28.14195325 31.19604675]\n",
      " [28.05534709 31.30065291]\n",
      " [29.22432674 31.91567326]\n",
      " [28.52165599 31.53034401]\n",
      " [28.20251835 31.54948165]\n",
      " [28.47758122 31.27441878]\n",
      " [28.40435187 31.34964813]\n",
      " [28.12988254 31.28811746]\n",
      " [29.05779649 31.96420351]\n",
      " [28.28812038 30.97587962]\n",
      " [28.77419967 31.80180033]\n",
      " [28.5330526  31.1949474 ]\n",
      " [28.56803612 31.61596388]\n",
      " [28.41092932 31.48507068]\n",
      " [28.62878466 31.71121534]\n",
      " [27.91475522 31.03124478]\n",
      " [27.43942514 30.33057486]\n",
      " [28.43080781 31.22119219]\n",
      " [28.12311858 30.81488142]\n",
      " [27.87444582 30.49755418]\n",
      " [27.99101911 31.16698089]\n",
      " [27.71322623 30.21277377]\n",
      " [27.9182986  31.2397014 ]\n",
      " [28.6003457  31.5836543 ]\n",
      " [27.12377287 29.74022713]\n",
      " [29.7750184  33.3069816 ]\n",
      " [28.77387971 32.14412029]\n",
      " [27.86140492 31.05459508]\n",
      " [28.45503719 31.54096281]\n",
      " [28.45284017 31.02915983]\n",
      " [28.73574808 31.88625192]\n",
      " [28.70197482 31.81202518]\n",
      " [28.51423395 32.26376605]\n",
      " [27.81625166 30.47574834]\n",
      " [28.71751768 31.84448232]\n",
      " [28.18651821 31.00548179]\n",
      " [27.41841577 30.15558423]\n",
      " [27.49849505 30.64550495]\n",
      " [28.45554407 31.65445593]\n",
      " [28.06974999 31.24425001]\n",
      " [28.5414756  31.5405244 ]\n",
      " [28.86460993 32.16939007]\n",
      " [29.02655602 32.33344398]\n",
      " [28.48786089 31.60413911]\n",
      " [28.22112881 31.07487119]\n",
      " [28.80186161 32.39213839]\n",
      " [26.933405   29.534595  ]\n",
      " [28.20936571 31.70463429]\n",
      " [27.41512279 30.21887721]\n",
      " [28.39312438 31.74087562]\n",
      " [27.79956929 30.58443071]\n",
      " [29.10344556 31.69655444]\n",
      " [29.2258847  32.1021153 ]\n",
      " [28.28852927 31.27547073]\n",
      " [27.63773455 30.54426545]\n",
      " [28.56514647 31.51885353]\n",
      " [29.26428593 32.09171407]\n",
      " [29.43747331 32.59452669]\n",
      " [28.32705926 31.34094074]\n",
      " [28.57732983 31.48467017]\n",
      " [27.58952586 30.70447414]\n",
      " [29.70993412 32.43406588]\n",
      " [26.47559837 29.30840163]\n",
      " [27.58377631 30.60022369]\n",
      " [28.33043293 31.51356707]\n",
      " [29.4640902  32.2539098 ]\n",
      " [28.31833059 31.64966941]\n",
      " [28.64233561 31.72966439]\n",
      " [28.49433292 32.03566708]\n",
      " [28.65992333 31.65807667]\n",
      " [28.92158602 32.41841398]\n",
      " [27.9090863  31.1089137 ]\n",
      " [28.72302841 31.76097159]\n",
      " [29.54582787 32.53017213]\n",
      " [29.84217214 32.81582786]\n",
      " [28.13325779 31.01874221]\n",
      " [28.37629196 31.54370804]\n",
      " [28.49624344 31.54175656]\n",
      " [29.01663709 32.28736291]\n",
      " [28.80295109 32.23104891]\n",
      " [28.78594634 31.77805366]\n",
      " [28.21901431 31.59898569]\n",
      " [28.85216144 32.11583856]\n",
      " [27.7868837  30.7391163 ]\n",
      " [28.80353375 31.94046625]\n",
      " [27.23978176 30.48221824]\n",
      " [28.40543875 31.47256125]\n",
      " [28.10436039 30.72963961]\n",
      " [28.47372216 31.54627784]\n",
      " [28.25508557 31.38491443]\n",
      " [28.15702708 30.58097292]\n",
      " [28.47099453 31.67900547]\n",
      " [29.48521583 32.78678417]\n",
      " [29.98719191 33.31280809]\n",
      " [29.96547294 33.35252706]\n",
      " [28.91972435 32.36227565]\n",
      " [28.80061501 32.25738499]\n",
      " [28.35573713 31.50426287]\n",
      " [28.82932379 31.73867621]\n",
      " [28.84745433 32.27054567]\n",
      " [29.03209082 32.13190918]\n",
      " [27.90750728 30.78449272]\n",
      " [29.27517811 32.60482189]\n",
      " [27.54891955 30.37508045]\n",
      " [28.64016208 31.82583792]\n",
      " [27.95727797 30.82872203]\n",
      " [28.29908413 31.27291587]\n",
      " [29.56068093 32.85931907]\n",
      " [28.86985997 31.53814003]\n",
      " [29.36980077 32.53419923]\n",
      " [28.20254688 30.96145312]\n",
      " [27.63349689 30.77050311]\n",
      " [28.07421958 31.55178042]\n",
      " [28.81252162 32.10547838]\n",
      " [28.90014931 32.06385069]\n",
      " [28.31360438 30.99639562]\n",
      " [29.09692902 32.43307098]\n",
      " [27.88869864 30.58130136]\n",
      " [28.99614179 32.06585821]\n",
      " [27.45074011 30.46525989]\n",
      " [29.16783513 32.45016487]\n",
      " [27.99943104 31.12456896]\n",
      " [27.79049823 30.49750177]\n",
      " [29.15596289 32.30603711]\n",
      " [28.95957015 31.92042985]\n",
      " [28.08566353 31.37833647]\n",
      " [27.34910479 30.40689521]\n",
      " [28.96115055 32.40084945]\n",
      " [27.83968621 31.09231379]\n",
      " [28.12136675 31.09863325]\n",
      " [28.16762724 30.77237276]\n",
      " [28.98761813 32.15638187]\n",
      " [27.90930206 31.14069794]\n",
      " [28.41776396 31.98623604]\n",
      " [28.33346926 31.48453074]\n",
      " [28.58859739 31.56140261]\n",
      " [29.39464409 31.87735591]\n",
      " [28.80744226 32.23855774]\n",
      " [26.58230199 29.12369801]\n",
      " [29.01087759 32.56112241]\n",
      " [28.20154408 31.22645592]\n",
      " [28.23659701 31.34340299]\n",
      " [28.40722442 31.04477558]\n",
      " [28.55706799 31.17693201]\n",
      " [28.08556565 31.39243435]\n",
      " [28.90336518 32.39263482]\n",
      " [27.31477643 30.30722357]\n",
      " [28.64636206 31.73363794]\n",
      " [28.56683922 32.06116078]\n",
      " [28.62226001 31.70173999]\n",
      " [29.18128326 32.60671674]\n",
      " [28.25380966 31.52819034]\n",
      " [27.70964147 30.59435853]\n",
      " [28.72943082 31.74856918]\n",
      " [27.2479265  29.7500735 ]\n",
      " [28.42498156 31.66701844]\n",
      " [26.42323966 28.79076034]\n",
      " [29.27381232 32.35218768]\n",
      " [27.57381695 30.03818305]\n",
      " [27.99398796 30.54801204]\n",
      " [28.85083889 31.81916111]\n",
      " [28.38639976 31.50560024]\n",
      " [28.54993208 31.85806792]\n",
      " [28.67838338 31.71961662]\n",
      " [28.14455255 31.20944745]\n",
      " [29.22079192 32.40720808]\n",
      " [28.61664144 32.43535856]\n",
      " [28.30585846 31.85814154]\n",
      " [28.0273965  31.1106035 ]\n",
      " [27.94093696 30.95306304]\n",
      " [28.04815529 30.91384471]\n",
      " [28.62863486 31.46936514]\n",
      " [28.48935853 31.23464147]\n",
      " [28.14909998 31.21290002]\n",
      " [27.65307445 30.21492555]\n",
      " [27.16727048 29.99272952]\n",
      " [27.866083   30.839917  ]\n",
      " [28.90048099 31.84551901]\n",
      " [27.9616405  31.1803595 ]\n",
      " [27.34490474 30.19309526]\n",
      " [29.16881699 32.07718301]\n",
      " [27.73775636 30.81624364]\n",
      " [28.11711602 31.35688398]\n",
      " [29.42344818 32.40455182]\n",
      " [29.09592497 32.02807503]\n",
      " [27.74860729 30.84139271]\n",
      " [27.97251839 30.93548161]\n",
      " [28.07597896 31.21402104]\n",
      " [27.88689099 31.05110901]\n",
      " [28.20322274 31.45677726]\n",
      " [29.39844056 32.68155944]\n",
      " [27.84410367 30.82589633]\n",
      " [28.75011608 31.74588392]\n",
      " [27.88518385 30.93481615]\n",
      " [28.81224822 31.87175178]\n",
      " [29.69375753 33.13624247]\n",
      " [29.03857955 32.37942045]\n",
      " [28.31225492 31.14374508]\n",
      " [27.36183744 30.14816256]\n",
      " [28.1525931  31.5154069 ]\n",
      " [28.00302628 30.48897372]\n",
      " [29.66696745 32.52103255]\n",
      " [27.59630115 30.40569885]\n",
      " [28.77624604 32.45975396]\n",
      " [26.92810846 29.74789154]\n",
      " [30.23755622 33.59644378]\n",
      " [29.70745944 32.89254056]\n",
      " [28.78786478 31.50613522]\n",
      " [27.5784996  30.7675004 ]\n",
      " [27.46817241 30.45382759]\n",
      " [29.03225375 31.89174625]\n",
      " [28.76411909 31.94788091]\n",
      " [27.08525863 29.56074137]\n",
      " [27.52105091 30.42694909]\n",
      " [27.27829467 29.79570533]\n",
      " [28.30185659 31.38014341]\n",
      " [28.54433959 31.85966041]\n",
      " [29.43539125 33.01260875]\n",
      " [29.96230827 33.25969173]\n",
      " [28.05151546 30.63048454]\n",
      " [27.42262716 30.18337284]\n",
      " [28.51061053 31.74538947]\n",
      " [27.79036086 30.84763914]\n",
      " [28.71214015 31.86785985]\n",
      " [29.02253117 31.60546883]\n",
      " [28.22830742 31.22369258]\n",
      " [29.10601115 31.98398885]\n",
      " [28.60338895 31.91861105]\n",
      " [28.54839486 31.47160514]\n",
      " [28.44032119 31.55967881]\n",
      " [29.44482292 32.47117708]\n",
      " [28.74924944 32.10675056]\n",
      " [28.05760541 30.83439459]\n",
      " [28.59345866 31.30854134]\n",
      " [28.30100835 31.03699165]\n",
      " [29.47444929 32.55755071]\n",
      " [29.78333736 32.80266264]\n",
      " [27.96966948 31.00633052]\n",
      " [27.71442172 30.25957828]\n",
      " [29.41681088 32.71318912]\n",
      " [28.55199959 31.23000041]\n",
      " [28.71051093 31.72148907]\n",
      " [29.40545315 32.53254685]\n",
      " [29.52554191 33.15045809]\n",
      " [28.34168804 31.19431196]\n",
      " [29.12186064 32.13413936]\n",
      " [29.18950216 32.26649784]\n",
      " [28.32802438 31.02197562]\n",
      " [29.56687199 32.06512801]\n",
      " [27.97576217 30.65223783]\n",
      " [28.36693413 31.38506587]\n",
      " [27.34299607 30.17900393]\n",
      " [28.91253394 32.08146606]\n",
      " [29.4448515  32.3631485 ]\n",
      " [28.69026795 31.42573205]\n",
      " [28.25259963 31.04340037]\n",
      " [27.63740434 30.39659566]\n",
      " [28.13577897 31.49222103]\n",
      " [27.36278615 30.21721385]\n",
      " [27.95987879 30.24812121]\n",
      " [28.55331152 31.65068848]\n",
      " [27.75772611 30.76427389]\n",
      " [27.99271535 31.28528465]\n",
      " [29.40740861 32.39059139]\n",
      " [28.18529729 31.34870271]\n",
      " [27.35201252 29.97198748]\n",
      " [28.06951992 31.60848008]\n",
      " [28.4525182  31.5494818 ]\n",
      " [27.57694182 30.65705818]\n",
      " [27.22625948 29.98174052]\n",
      " [28.17322619 31.14077381]\n",
      " [28.34738004 31.11261996]\n",
      " [29.3048831  32.6171169 ]\n",
      " [28.79302464 31.88297536]\n",
      " [28.45262379 31.27537621]\n",
      " [28.11902133 31.05097867]\n",
      " [28.80328866 32.36271134]\n",
      " [28.91838269 32.37361731]\n",
      " [29.1847881  32.1172119 ]\n",
      " [28.05248898 30.96751102]\n",
      " [28.56778765 31.97421235]\n",
      " [28.61347887 31.67252113]\n",
      " [28.22038497 31.22361503]\n",
      " [27.99958282 30.72641718]\n",
      " [29.33379773 32.49820227]\n",
      " [29.07606527 32.15793473]\n",
      " [30.36878021 33.16721979]\n",
      " [28.42198804 31.23201196]\n",
      " [28.24962229 31.01837771]\n",
      " [28.03393004 31.25806996]\n",
      " [28.97078624 32.48321376]\n",
      " [27.67617246 30.36582754]\n",
      " [28.03768235 31.39831765]\n",
      " [28.02571636 30.99628364]\n",
      " [28.54607921 31.12792079]\n",
      " [28.26248309 31.10351691]\n",
      " [29.89213419 32.78386581]\n",
      " [28.57159637 31.17240363]\n",
      " [29.61844076 32.59155924]\n",
      " [28.52702761 31.30297239]\n",
      " [29.44906561 32.43093439]]\n"
     ]
    }
   ],
   "source": [
    "print(all_cis[0])"
   ]
  },
  {
   "cell_type": "code",
   "execution_count": 55,
   "metadata": {},
   "outputs": [
    {
     "data": {
      "image/png": "[encoded data removed]",
      "text/plain": [
       "<Figure size 640x480 with 1 Axes>"
      ]
     },
     "metadata": {},
     "output_type": "display_data"
    }
   ],
   "source": [
    "ci = all_cis[0]\n",
    "for j, x in enumerate(ci):\n",
    "    plt.plot([j,j],x,color='grey')\n",
    "    plt.gca().set_ylabel('BMI')\n",
    "mn = dx['BMXBMI'].mean()\n",
    "plt.plot([0,500],[mn,mn],color='red');    "
   ]
  },
  {
   "cell_type": "markdown",
   "metadata": {},
   "source": [
    "We can calculate the fraction of the 500 simulated confidence intervals that did not cover the target value. This is called the \"non-coverage probability\". There are two ways for an interval to fail to cover the target -- either the upper limit of the interval can fall below the target, or the lower limit of the interval can fall above the target. We calculate each of these below. The sum of these two probabilities should be around 0.05, which is the allowed proportion of the time that a 95% confidence interval does not cover its target."
   ]
  },
  {
   "cell_type": "code",
   "execution_count": 56,
   "metadata": {},
   "outputs": [
    {
     "name": "stdout",
     "output_type": "stream",
     "text": [
      "0.03\n",
      "0.012\n"
     ]
    }
   ],
   "source": [
    "print(np.mean(ci[:,1]<mn))  # Upper limit falls below the target\n",
    "print(np.mean(ci[:,0]>mn))  # Lower limit falls above the target"
   ]
  },
  {
   "cell_type": "code",
   "execution_count": null,
   "metadata": {},
   "outputs": [],
   "source": []
  }
 ],
 "metadata": {
  "kernelspec": {
   "display_name": "Python 3.12.7 ('myenv')",
   "language": "python",
   "name": "python3"
  },
  "language_info": {
   "codemirror_mode": {
    "name": "ipython",
    "version": 3
   },
   "file_extension": ".py",
   "mimetype": "text/x-python",
   "name": "python",
   "nbconvert_exporter": "python",
   "pygments_lexer": "ipython3",
   "version": "3.12.7"
  },
  "orig_nbformat": 4,
  "vscode": {
   "interpreter": {
    "hash": "63c49e8d1e646aa190844836d1cfc5ee1f530ae32fef9584fc84302df7dcdbd1"
   }
  }
 },
 "nbformat": 4,
 "nbformat_minor": 2
}
